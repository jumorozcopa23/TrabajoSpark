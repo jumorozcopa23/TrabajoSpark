{
 "cells": [
  {
   "cell_type": "code",
   "execution_count": 1,
   "metadata": {},
   "outputs": [],
   "source": [
    "# Agrege acá el código para importar las librerias\n",
    "\n",
    "# La libreria para \"encontrar el sevicio\" de Spark\n",
    "import findspark\n",
    "findspark.init()\n",
    "\n",
    "# Librerias para \"gestionar el servicio\" de Spark\n",
    "from pyspark import SparkConf, SparkContext\n",
    "from pyspark.sql import SQLContext, SparkSession\n",
    "from pyspark.sql.functions import col\n",
    "\n",
    "# Creamos una aplicación Spark en el Servicio\n",
    "# Tenga cuidado con las tildes o caracteres especiales en el nombre de la app\n",
    "AppSpark = SparkConf().setAppName(\"Evaluacion iSofware\")\n",
    "\n",
    "# definimos un espacio o contexto para la App\n",
    "ContextoSpark=SparkContext(conf=AppSpark)\n",
    "\n",
    "# inicio una sesión en el espacio de la App\n",
    "SesionSpark = SparkSession(ContextoSpark)\n",
    "\n",
    "# inicio del espacio o contexto SQL\n",
    "ContextoSql = SQLContext(sparkContext=ContextoSpark, sparkSession=SesionSpark)"
   ]
  },
  {
   "cell_type": "code",
   "execution_count": 2,
   "metadata": {},
   "outputs": [
    {
     "name": "stdout",
     "output_type": "stream",
     "text": [
      "copyFromLocal: `/tmp/Asistencia.csv': File exists\n",
      "copyFromLocal: `/tmp/Evaluacion.csv': File exists\n"
     ]
    }
   ],
   "source": [
    "# 1. Cargue los datos en la carpeta datalake y luego del /datalake al HDFS (Hadoop File System)\n",
    "# Recuerda usar ! para ejecutar el comando en el shell. \n",
    "# Tu código a continuación...\n",
    "\n",
    "#!hdfs dfs -ls\n",
    "!hdfs dfs -copyFromLocal Asistencia.csv /tmp/\n",
    "!hdfs dfs -copyFromLocal Evaluacion.csv /tmp/"
   ]
  },
  {
   "cell_type": "code",
   "execution_count": 3,
   "metadata": {},
   "outputs": [
    {
     "name": "stdout",
     "output_type": "stream",
     "text": [
      "-rw-r--r--   1 root supergroup      93121 2021-05-25 21:31 /tmp/Asistencia.csv\n",
      "-rw-r--r--   1 root supergroup     111944 2021-05-25 21:32 /tmp/Evaluacion.csv\n"
     ]
    }
   ],
   "source": [
    "!hdfs dfs -ls /tmp/*csv"
   ]
  },
  {
   "cell_type": "code",
   "execution_count": 50,
   "metadata": {},
   "outputs": [],
   "source": [
    "# 2. Cree dos tablas SparkSQL y almacene el csv en su correspondiente tabla.\n",
    "# Observación: tenga especial cuidado con los encabezados de los archivos CSV.\n",
    "# Usted puede considerar cambiar los encabezados de los CSV originales\n",
    "# Tu código a continuación...\n",
    "asis = SesionSpark.read.load('/tmp/Asistencia.csv',format=\"csv\",sep=',',inferSchema='true',header='true')\n",
    "eva = SesionSpark.read.load('/tmp/Evaluacion.csv',format=\"csv\",sep=',',inferSchema='true',header='true')"
   ]
  },
  {
   "cell_type": "code",
   "execution_count": 51,
   "metadata": {},
   "outputs": [
    {
     "name": "stdout",
     "output_type": "stream",
     "text": [
      "root\n",
      " |-- tiempo: string (nullable = true)\n",
      " |-- usuario: string (nullable = true)\n",
      " |-- equipoPertenece: string (nullable = true)\n",
      " |-- equipoExponer: string (nullable = true)\n",
      "\n"
     ]
    }
   ],
   "source": [
    "#Validamos datos cambiando el nombre de las columnas\n",
    "asis1 = asis.withColumnRenamed(\"Marca temporal\", \"tiempo\")\n",
    "asis2 = asis1.withColumnRenamed(\"Nombre de usuario\", \"usuario\")\n",
    "asis3 = asis2.withColumnRenamed(\"Equipo al que perteneces:\", \"equipoPertenece\")\n",
    "asis4 = asis3.withColumnRenamed(\"Equipo que va a exponer:\", \"equipoExponer\")\n",
    "asis4.printSchema()\n",
    "asis = asis4"
   ]
  },
  {
   "cell_type": "code",
   "execution_count": 77,
   "metadata": {},
   "outputs": [
    {
     "name": "stdout",
     "output_type": "stream",
     "text": [
      "root\n",
      " |-- tiempo: string (nullable = true)\n",
      " |-- usuario: string (nullable = true)\n",
      " |-- equipoEvaluar: string (nullable = true)\n",
      " |-- introduccion: integer (nullable = true)\n",
      " |-- equipo: integer (nullable = true)\n",
      " |-- problema: integer (nullable = true)\n",
      " |-- ventajas: integer (nullable = true)\n",
      " |-- solucion: integer (nullable = true)\n",
      " |-- producto: integer (nullable = true)\n",
      " |-- traccion: integer (nullable = true)\n",
      " |-- mercado: integer (nullable = true)\n",
      " |-- competencia: integer (nullable = true)\n",
      " |-- modeloNegocio: integer (nullable = true)\n",
      " |-- inversion: integer (nullable = true)\n",
      " |-- contacto: integer (nullable = true)\n",
      " |-- exposicion1: integer (nullable = true)\n",
      " |-- exposicion2: integer (nullable = true)\n",
      " |-- exposicion3: integer (nullable = true)\n",
      " |-- supon: string (nullable = true)\n",
      " |-- observacion: string (nullable = true)\n",
      "\n"
     ]
    }
   ],
   "source": [
    "eva2 = eva.withColumnRenamed(\"Marca temporal\",\"tiempo\") \\\n",
    "    .withColumnRenamed(\"Nombre de usuario\",\"usuario\") \\\n",
    "    .withColumnRenamed(\"Equipo que vas a evaluar:\",\"equipoEvaluar\") \\\n",
    "    .withColumnRenamed(\"Ventajas: El equipo responde adecuadamente ¿Por qué su solución es especial?, ¿qué la hace distinta de otras?\",\"ventajas\") \\\n",
    "    .withColumnRenamed(\"Problema: El equipo responde adecuadamente ¿Qué problema resolverá?, ¿es realmente un problema?\",\"problema\") \\\n",
    "    .withColumnRenamed(\"Introducción: El equipo responde adecuadamente ¿Quiénes son y por qué están aquí?\",\"introduccion\") \\\n",
    "    .withColumnRenamed(\"Solución: El equipo responde adecuadamente ¿Cómo piensa resolver el problema?\",\"solucion\") \\\n",
    "    .withColumnRenamed(\"Tracción: El equipo responde adecuadamente si cuenta con clientes que demuestran potencial.\",\"traccion\") \\\n",
    "    .withColumnRenamed(\"Modelo de negocio: El equipo responde adecuadamente ¿Cómo hará dinero? \",\"modeloNegocio\") \\\n",
    "    .withColumnRenamed(\"Inversión: El equipo responde adecuadamente ¿Cuál es su presupuesto y cuánto espera ganar?\",\"inversion\") \\\n",
    "    .withColumnRenamed(\"Exposición: ¿Qué tan coordinados estaban los expositores?\",\"exposicion1\") \\\n",
    "    .withColumnRenamed(\"Exposición: ¿Los expositores se expresaron con claridad y se hicieron entender?\",\"exposicion2\") \\\n",
    "    .withColumnRenamed(\"Exposición: Las diapositivas son claras y coherentes y apoyaron adecuadamente la exposición.\",\"exposicion3\") \\\n",
    "    .withColumnRenamed(\"Suponiendo que eres inversionista, ¿Estarías dispuesto a invertir dinero en este equipo? (esta pregunta no se pondera en la nota)\",\"supon\") \\\n",
    "    .withColumnRenamed(\"Observaciones para el equipo, estas observaciones las debe considerar el equipo para mejorar la siguiente presentación.\",\"observacion\") \\\n",
    "    .withColumnRenamed(\"Contacto: El equipo deja los datos al cliente y muestra cómo pueden contactarle.\",\"contacto\") \\\n",
    "    .withColumnRenamed(\"Competencia: El equipo responde adecuadamente ¿Cuáles son las soluciones alternativas al problema que plantea?\",\"competencia\") \\\n",
    "    .withColumnRenamed(\"Mercado: El equipo responde conoce, o por lo menos intentar predecir, el tamaño del mercado que impactará.\",\"mercado\") \\\n",
    "    .withColumnRenamed(\"Producto: El equipo responde adecuadamente ¿Cómo funciona el producto o servicio? Muestra algunos ejemplos.\",\"producto\") \\\n",
    "    .withColumnRenamed(\"Equipo: El equipo responde adecuadamente ¿Quiénes están detrás de la idea y cuál es su función?\", \"equipo\")\n",
    "eva = eva2\n",
    "eva2.printSchema()"
   ]
  },
  {
   "cell_type": "code",
   "execution_count": 21,
   "metadata": {},
   "outputs": [
    {
     "name": "stdout",
     "output_type": "stream",
     "text": [
      "Total de asistencias:  662  y total de evaluaciones:  617 .\n"
     ]
    }
   ],
   "source": [
    "#Datos adicionales\n",
    "totalAsis = asis.count()\n",
    "totalEva = eva.count()\n",
    "print('Total de asistencias: ', totalAsis, ' y total de evaluaciones: ', totalEva, '.')"
   ]
  },
  {
   "cell_type": "code",
   "execution_count": 39,
   "metadata": {},
   "outputs": [
    {
     "name": "stdout",
     "output_type": "stream",
     "text": [
      "+--------------------+\n",
      "|             usuario|\n",
      "+--------------------+\n",
      "| abanolc@unal.edu.co|\n",
      "|acastrillonv@unal...|\n",
      "| aflemag@unal.edu.co|\n",
      "|anapariciom@unal....|\n",
      "|angutierrezb@unal...|\n",
      "|anoriega@unal.edu.co|\n",
      "|auarbelaeza@unal....|\n",
      "| bocampo@unal.edu.co|\n",
      "|cgiraldo@unal.edu.co|\n",
      "|cjfunezg@unal.edu.co|\n",
      "|cquinchiar@unal.e...|\n",
      "| dadazam@unal.edu.co|\n",
      "|daestradam@unal.e...|\n",
      "|davgarciava@unal....|\n",
      "|dballesteroso@una...|\n",
      "|  dbrito@unal.edu.co|\n",
      "|dcadavid@unal.edu.co|\n",
      "|dcardonaal@unal.e...|\n",
      "|dchavarriar@unal....|\n",
      "|dgarciabl@unal.ed...|\n",
      "+--------------------+\n",
      "only showing top 20 rows\n",
      "\n"
     ]
    }
   ],
   "source": [
    "# 2. Consulte el listado total de estudiantes (correos electrónicos) del \n",
    "# curso de Ingeniería de Software, ordenados alfabéticamente\n",
    "# Tu código a continuación...\n",
    "\n",
    "#um = asis.sort(['usuario']).select(['usuario']).drop_duplicates().count()\n",
    "#Respuesta\n",
    "asis.sort(['usuario']).select(['usuario']).drop_duplicates().show()"
   ]
  },
  {
   "cell_type": "code",
   "execution_count": 25,
   "metadata": {},
   "outputs": [
    {
     "name": "stdout",
     "output_type": "stream",
     "text": [
      "+--------------------+--------------+\n",
      "|             usuario|count(usuario)|\n",
      "+--------------------+--------------+\n",
      "|samolinap@unal.ed...|            10|\n",
      "| jruedat@unal.edu.co|             8|\n",
      "|nvalenciat@unal.e...|             8|\n",
      "|serendona@unal.ed...|             8|\n",
      "|jgutierrezlo@unal...|             8|\n",
      "|dgerenal@unal.edu.co|             8|\n",
      "|cjfunezg@unal.edu.co|             8|\n",
      "|emflorezb@unal.ed...|             8|\n",
      "|dchavarriar@unal....|             8|\n",
      "|fguerrerot@unal.e...|             8|\n",
      "|jdroldano@unal.ed...|             1|\n",
      "|juriveras@unal.ed...|             8|\n",
      "|jovillarrealm@una...|            10|\n",
      "|dguardia@unal.edu.co|             8|\n",
      "| lrdiaza@unal.edu.co|             7|\n",
      "|fmiranda@unal.edu.co|             8|\n",
      "|dcadavid@unal.edu.co|             8|\n",
      "| bocampo@unal.edu.co|             8|\n",
      "|rmbuilesm@unal.ed...|             9|\n",
      "|jmunozhe@unal.edu.co|             8|\n",
      "+--------------------+--------------+\n",
      "only showing top 20 rows\n",
      "\n"
     ]
    }
   ],
   "source": [
    "# 3. Consulte la cantidad de asistencias registradas por estudiante; además, la fecha y hora de la primera asistencia\n",
    "# y la fecha y hora de la última asistencia\n",
    "# Tu código a continuación...\n",
    "\n",
    "################ FALTA ESTE PUNTO ############################\n",
    "from pyspark.sql import functions as F\n",
    "asis.groupBy('usuario').agg(F.count('usuario')).show()"
   ]
  },
  {
   "cell_type": "code",
   "execution_count": 26,
   "metadata": {},
   "outputs": [],
   "source": [
    "# 4. Consulte el listado de estudiantes que asistieron a 2 presentaciones o menos (una).\n",
    "# Tu código a continuación...\n",
    "\n",
    "#Creamos una vista para trabajar con SQL\n",
    "asis.createOrReplaceTempView('vistaAsis')"
   ]
  },
  {
   "cell_type": "code",
   "execution_count": 38,
   "metadata": {},
   "outputs": [
    {
     "name": "stdout",
     "output_type": "stream",
     "text": [
      "+--------------------+-----+\n",
      "|             usuario|total|\n",
      "+--------------------+-----+\n",
      "|jdroldano@unal.ed...|    1|\n",
      "+--------------------+-----+\n",
      "\n"
     ]
    }
   ],
   "source": [
    "#Respuesta\n",
    "SesionSpark.sql(\"\"\"\n",
    " select usuario, total from (select usuario, count(usuario) as total from vistaAsis group by usuario) where total <= 2\n",
    "\"\"\").show()"
   ]
  },
  {
   "cell_type": "code",
   "execution_count": 47,
   "metadata": {},
   "outputs": [],
   "source": [
    "# 5. Consulte el listado de estudiantes que no asistieron a ninguna presentación.\n",
    "# Tu código a continuación...\n",
    "\n",
    "#Creamos otra vista para trabajar con SQL\n",
    "eva.createOrReplaceTempView('vistaEva')"
   ]
  },
  {
   "cell_type": "code",
   "execution_count": 70,
   "metadata": {},
   "outputs": [
    {
     "name": "stdout",
     "output_type": "stream",
     "text": [
      "+--------------------+\n",
      "|             usuario|\n",
      "+--------------------+\n",
      "| que genera un có...|\n",
      "|                null|\n",
      "|                null|\n",
      "| o las imágenes c...|\n",
      "| hasta más famoso...|\n",
      "| poder ver gráfic...|\n",
      "|                null|\n",
      "| ya que no se le ...|\n",
      "|                null|\n",
      "|                null|\n",
      "| parece publicida...|\n",
      "|                null|\n",
      "|                null|\n",
      "| como todo buen e...|\n",
      "|                null|\n",
      "|                null|\n",
      "|    UberEats incluso|\n",
      "| pueden incluir a...|\n",
      "| por el hecho de ...|\n",
      "| es un gasto que ...|\n",
      "+--------------------+\n",
      "only showing top 20 rows\n",
      "\n"
     ]
    }
   ],
   "source": [
    "#Respuesta\n",
    "SesionSpark.sql(\"\"\"\n",
    " select E.usuario from vistaEva E left join vistaAsis A on E.usuario = A.usuario where A.usuario is null\n",
    "\"\"\").show()"
   ]
  },
  {
   "cell_type": "code",
   "execution_count": 68,
   "metadata": {},
   "outputs": [
    {
     "data": {
      "text/plain": [
       "43"
      ]
     },
     "execution_count": 68,
     "metadata": {},
     "output_type": "execute_result"
    }
   ],
   "source": [
    "SesionSpark.sql(\"\"\"\n",
    " select E.usuario from vistaEva E left join vistaAsis A on E.usuario = A.usuario where A.usuario is null\n",
    "\"\"\").count()"
   ]
  },
  {
   "cell_type": "code",
   "execution_count": 73,
   "metadata": {},
   "outputs": [
    {
     "name": "stdout",
     "output_type": "stream",
     "text": [
      "+--------------------+--------------+\n",
      "|     equipoPertenece|count(usuario)|\n",
      "+--------------------+--------------+\n",
      "|Pertenezco a: Ges...|            84|\n",
      "|Pertenezco a: Lo ...|            87|\n",
      "|Pertenezco a: Adm...|            95|\n",
      "|Pertenezco a: Ser...|            65|\n",
      "|Pertenezco a: Te ...|            89|\n",
      "|Pertenezco a: Ges...|            86|\n",
      "|Pertenezco a: Ges...|            73|\n",
      "|Pertenezco a: Mi ...|            83|\n",
      "+--------------------+--------------+\n",
      "\n"
     ]
    }
   ],
   "source": [
    "# 6. Consulte los integrantes por cada equipo al que pertenecen.\n",
    "# Tu código a continuación...\n",
    "\n",
    "#Respuesta\n",
    "SesionSpark.sql(\"\"\"\n",
    " select equipoPertenece, count(usuario) from vistaAsis group by equipoPertenece\n",
    "\"\"\").show()"
   ]
  },
  {
   "cell_type": "code",
   "execution_count": 76,
   "metadata": {},
   "outputs": [
    {
     "name": "stdout",
     "output_type": "stream",
     "text": [
      "+--------------------+--------------+\n",
      "|     equipoPertenece|count(usuario)|\n",
      "+--------------------+--------------+\n",
      "|Pertenezco a: Ges...|            84|\n",
      "|Pertenezco a: Lo ...|            87|\n",
      "|Pertenezco a: Adm...|            95|\n",
      "|Pertenezco a: Ser...|            65|\n",
      "|Pertenezco a: Te ...|            89|\n",
      "|Pertenezco a: Ges...|            86|\n",
      "|Pertenezco a: Ges...|            73|\n",
      "|Pertenezco a: Mi ...|            83|\n",
      "+--------------------+--------------+\n",
      "\n"
     ]
    }
   ],
   "source": [
    "# 7. Consulte la cantidad de asistentes por presentación, sin considerar los asistentes que pertenecen \n",
    "# al equipo que realizó la presentación.\n",
    "# Tu código a continuación...\n",
    "\n",
    "#Respuesta\n",
    "SesionSpark.sql(\"\"\"\n",
    " select equipoPertenece, count(usuario) from vistaAsis where equipoPertenece <> equipoExponer group by equipoPertenece \n",
    "\"\"\").show()"
   ]
  },
  {
   "cell_type": "code",
   "execution_count": 89,
   "metadata": {},
   "outputs": [
    {
     "name": "stdout",
     "output_type": "stream",
     "text": [
      "+-------+----------+-------------+\n",
      "|usuario|perteneceA|equipoEvaluar|\n",
      "+-------+----------+-------------+\n",
      "+-------+----------+-------------+\n",
      "\n"
     ]
    }
   ],
   "source": [
    "# 8. Consutar cuáles integrantes evaluaron a su propio equipo. Estas evaluaciones no serán válidas, pues un\n",
    "# integrante no puede evaluar a su propio equipo.\n",
    "# Tu código a continuación...\n",
    "\n",
    "#Respuesta\n",
    "SesionSpark.sql(\"\"\"\n",
    " select * from (select A.usuario, SUBSTRING(A.equipoPertenece, 14) AS perteneceA, E.equipoEvaluar from vistaAsis A inner join vistaEva E on A.usuario = E.usuario) where perteneceA = equipoEvaluar\n",
    "\"\"\").show()"
   ]
  },
  {
   "cell_type": "code",
   "execution_count": 90,
   "metadata": {},
   "outputs": [],
   "source": [
    "# 9. Consultar la nota promedio por cada ítem (1 al 15), y la nota promedio total del cada equipo. Recuerde que no\n",
    "# son válidas las evaluaciones realizadas por los miembros del mismo equipo.\n",
    "# Tu código a continuación...\n",
    "\n"
   ]
  },
  {
   "cell_type": "code",
   "execution_count": 91,
   "metadata": {},
   "outputs": [],
   "source": [
    "# 10. Consulte el mejor equipo evaluado por cada ítem (según nota promedio. En caso de empate mostrar todos los empatados) \n",
    "# y el mejor equipo según el promedio total.\n",
    "# Tu código a continuación...\n"
   ]
  },
  {
   "cell_type": "code",
   "execution_count": 92,
   "metadata": {},
   "outputs": [],
   "source": [
    "# 11. Consulte el peor equipo evaluado por cada ítem (según nota promedio. En caso de empate mostrar todos los empatados) \n",
    "# y el peor equipo según el promedio total.\n",
    "# Tu código a continuación...\n",
    "\n"
   ]
  },
  {
   "cell_type": "code",
   "execution_count": 93,
   "metadata": {},
   "outputs": [],
   "source": [
    "# 12. Consulte la lista de estudiantes con la correspondiente nota obtenida en la presentación \n",
    "# (nota promedio total de la evaluación obtenida por el equipo)\n",
    "# Tu código a continuación...\n",
    "\n"
   ]
  },
  {
   "cell_type": "code",
   "execution_count": null,
   "metadata": {},
   "outputs": [],
   "source": []
  }
 ],
 "metadata": {
  "kernelspec": {
   "display_name": "Python 3",
   "language": "python",
   "name": "python3"
  },
  "language_info": {
   "codemirror_mode": {
    "name": "ipython",
    "version": 3
   },
   "file_extension": ".py",
   "mimetype": "text/x-python",
   "name": "python",
   "nbconvert_exporter": "python",
   "pygments_lexer": "ipython3",
   "version": "3.6.9"
  }
 },
 "nbformat": 4,
 "nbformat_minor": 4
}
