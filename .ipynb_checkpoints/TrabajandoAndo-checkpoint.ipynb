{
 "cells": [
  {
   "cell_type": "code",
   "execution_count": 1,
   "metadata": {},
   "outputs": [],
   "source": [
    "# Agrege acá el código para importar las librerias\n",
    "\n",
    "# La libreria para \"encontrar el sevicio\" de Spark\n",
    "import findspark\n",
    "findspark.init()\n",
    "\n",
    "# Librerias para \"gestionar el servicio\" de Spark\n",
    "from pyspark import SparkConf, SparkContext\n",
    "from pyspark.sql import SQLContext, SparkSession\n",
    "from pyspark.sql.functions import col\n",
    "\n",
    "# Creamos una aplicación Spark en el Servicio\n",
    "# Tenga cuidado con las tildes o caracteres especiales en el nombre de la app\n",
    "AppSpark = SparkConf().setAppName(\"Evaluacion iSofware\")\n",
    "\n",
    "# definimos un espacio o contexto para la App\n",
    "ContextoSpark=SparkContext(conf=AppSpark)\n",
    "\n",
    "# inicio una sesión en el espacio de la App\n",
    "SesionSpark = SparkSession(ContextoSpark)\n",
    "\n",
    "# inicio del espacio o contexto SQL\n",
    "ContextoSql = SQLContext(sparkContext=ContextoSpark, sparkSession=SesionSpark)"
   ]
  },
  {
   "cell_type": "code",
   "execution_count": 2,
   "metadata": {},
   "outputs": [],
   "source": [
    "# 1. Cargue los datos en la carpeta datalake y luego del /datalake al HDFS (Hadoop File System)\n",
    "# Recuerda usar ! para ejecutar el comando en el shell. \n",
    "# Tu código a continuación...\n",
    "\n",
    "#!hdfs dfs -ls\n",
    "!hdfs dfs -copyFromLocal Asistencia.csv /tmp/\n",
    "!hdfs dfs -copyFromLocal Evaluacion.csv /tmp/"
   ]
  },
  {
   "cell_type": "code",
   "execution_count": 3,
   "metadata": {},
   "outputs": [
    {
     "name": "stdout",
     "output_type": "stream",
     "text": [
      "-rw-r--r--   1 root supergroup      93121 2021-05-27 15:43 /tmp/Asistencia.csv\n",
      "-rw-r--r--   1 root supergroup     111944 2021-05-27 15:43 /tmp/Evaluacion.csv\n"
     ]
    }
   ],
   "source": [
    "!hdfs dfs -ls /tmp/*csv"
   ]
  },
  {
   "cell_type": "code",
   "execution_count": 4,
   "metadata": {
    "jupyter": {
     "source_hidden": true
    }
   },
   "outputs": [],
   "source": [
    "# 2. Cree dos tablas SparkSQL y almacene el csv en su correspondiente tabla.\n",
    "# Observación: tenga especial cuidado con los encabezados de los archivos CSV.\n",
    "# Usted puede considerar cambiar los encabezados de los CSV originales\n",
    "# Tu código a continuación...\n",
    "asis = SesionSpark.read.load('/tmp/Asistencia.csv',format=\"csv\",sep=',',inferSchema='true',header='true')\n",
    "eva = SesionSpark.read.load('/tmp/Evaluacion.csv',format=\"csv\",sep=',',inferSchema='true',header='true')"
   ]
  },
  {
   "cell_type": "code",
   "execution_count": 5,
   "metadata": {
    "jupyter": {
     "source_hidden": true
    }
   },
   "outputs": [
    {
     "name": "stdout",
     "output_type": "stream",
     "text": [
      "root\n",
      " |-- tiempo: string (nullable = true)\n",
      " |-- usuario: string (nullable = true)\n",
      " |-- equipoPertenece: string (nullable = true)\n",
      " |-- equipoExponer: string (nullable = true)\n",
      "\n"
     ]
    }
   ],
   "source": [
    "#Validamos datos cambiando el nombre de las columnas\n",
    "asis1 = asis.withColumnRenamed(\"Marca temporal\", \"tiempo\")\n",
    "asis2 = asis1.withColumnRenamed(\"Nombre de usuario\", \"usuario\")\n",
    "asis3 = asis2.withColumnRenamed(\"Equipo al que perteneces:\", \"equipoPertenece\")\n",
    "asis4 = asis3.withColumnRenamed(\"Equipo que va a exponer:\", \"equipoExponer\")\n",
    "asis4.printSchema()\n",
    "asis = asis4"
   ]
  },
  {
   "cell_type": "code",
   "execution_count": 6,
   "metadata": {
    "jupyter": {
     "source_hidden": true
    }
   },
   "outputs": [
    {
     "name": "stdout",
     "output_type": "stream",
     "text": [
      "root\n",
      " |-- tiempo: string (nullable = true)\n",
      " |-- usuario: string (nullable = true)\n",
      " |-- equipoEvaluar: string (nullable = true)\n",
      " |-- introduccion: integer (nullable = true)\n",
      " |-- equipo: integer (nullable = true)\n",
      " |-- problema: integer (nullable = true)\n",
      " |-- ventajas: integer (nullable = true)\n",
      " |-- solucion: integer (nullable = true)\n",
      " |-- producto: integer (nullable = true)\n",
      " |-- traccion: integer (nullable = true)\n",
      " |-- mercado: integer (nullable = true)\n",
      " |-- competencia: integer (nullable = true)\n",
      " |-- modeloNegocio: integer (nullable = true)\n",
      " |-- inversion: integer (nullable = true)\n",
      " |-- contacto: integer (nullable = true)\n",
      " |-- exposicion1: integer (nullable = true)\n",
      " |-- exposicion2: integer (nullable = true)\n",
      " |-- exposicion3: integer (nullable = true)\n",
      " |-- supon: string (nullable = true)\n",
      " |-- observacion: string (nullable = true)\n",
      "\n"
     ]
    }
   ],
   "source": [
    "eva2 = eva.withColumnRenamed(\"Marca temporal\",\"tiempo\") \\\n",
    "    .withColumnRenamed(\"Nombre de usuario\",\"usuario\") \\\n",
    "    .withColumnRenamed(\"Equipo que vas a evaluar:\",\"equipoEvaluar\") \\\n",
    "    .withColumnRenamed(\"Ventajas: El equipo responde adecuadamente ¿Por qué su solución es especial?, ¿qué la hace distinta de otras?\",\"ventajas\") \\\n",
    "    .withColumnRenamed(\"Problema: El equipo responde adecuadamente ¿Qué problema resolverá?, ¿es realmente un problema?\",\"problema\") \\\n",
    "    .withColumnRenamed(\"Introducción: El equipo responde adecuadamente ¿Quiénes son y por qué están aquí?\",\"introduccion\") \\\n",
    "    .withColumnRenamed(\"Solución: El equipo responde adecuadamente ¿Cómo piensa resolver el problema?\",\"solucion\") \\\n",
    "    .withColumnRenamed(\"Tracción: El equipo responde adecuadamente si cuenta con clientes que demuestran potencial.\",\"traccion\") \\\n",
    "    .withColumnRenamed(\"Modelo de negocio: El equipo responde adecuadamente ¿Cómo hará dinero? \",\"modeloNegocio\") \\\n",
    "    .withColumnRenamed(\"Inversión: El equipo responde adecuadamente ¿Cuál es su presupuesto y cuánto espera ganar?\",\"inversion\") \\\n",
    "    .withColumnRenamed(\"Exposición: ¿Qué tan coordinados estaban los expositores?\",\"exposicion1\") \\\n",
    "    .withColumnRenamed(\"Exposición: ¿Los expositores se expresaron con claridad y se hicieron entender?\",\"exposicion2\") \\\n",
    "    .withColumnRenamed(\"Exposición: Las diapositivas son claras y coherentes y apoyaron adecuadamente la exposición.\",\"exposicion3\") \\\n",
    "    .withColumnRenamed(\"Suponiendo que eres inversionista, ¿Estarías dispuesto a invertir dinero en este equipo? (esta pregunta no se pondera en la nota)\",\"supon\") \\\n",
    "    .withColumnRenamed(\"Observaciones para el equipo, estas observaciones las debe considerar el equipo para mejorar la siguiente presentación.\",\"observacion\") \\\n",
    "    .withColumnRenamed(\"Contacto: El equipo deja los datos al cliente y muestra cómo pueden contactarle.\",\"contacto\") \\\n",
    "    .withColumnRenamed(\"Competencia: El equipo responde adecuadamente ¿Cuáles son las soluciones alternativas al problema que plantea?\",\"competencia\") \\\n",
    "    .withColumnRenamed(\"Mercado: El equipo responde conoce, o por lo menos intentar predecir, el tamaño del mercado que impactará.\",\"mercado\") \\\n",
    "    .withColumnRenamed(\"Producto: El equipo responde adecuadamente ¿Cómo funciona el producto o servicio? Muestra algunos ejemplos.\",\"producto\") \\\n",
    "    .withColumnRenamed(\"Equipo: El equipo responde adecuadamente ¿Quiénes están detrás de la idea y cuál es su función?\", \"equipo\")\n",
    "eva = eva2\n",
    "eva2.printSchema()"
   ]
  },
  {
   "cell_type": "code",
   "execution_count": 7,
   "metadata": {
    "collapsed": true,
    "jupyter": {
     "outputs_hidden": true,
     "source_hidden": true
    }
   },
   "outputs": [
    {
     "name": "stdout",
     "output_type": "stream",
     "text": [
      "Total de asistencias:  662  y total de evaluaciones:  617 .\n"
     ]
    }
   ],
   "source": [
    "#Datos adicionales\n",
    "totalAsis = asis.count()\n",
    "totalEva = eva.count()\n",
    "print('Total de asistencias: ', totalAsis, ' y total de evaluaciones: ', totalEva, '.')"
   ]
  },
  {
   "cell_type": "code",
   "execution_count": 8,
   "metadata": {
    "collapsed": true,
    "jupyter": {
     "outputs_hidden": true,
     "source_hidden": true
    }
   },
   "outputs": [
    {
     "name": "stdout",
     "output_type": "stream",
     "text": [
      "+--------------------+\n",
      "|             usuario|\n",
      "+--------------------+\n",
      "| abanolc@unal.edu.co|\n",
      "|acastrillonv@unal...|\n",
      "| aflemag@unal.edu.co|\n",
      "|anapariciom@unal....|\n",
      "|angutierrezb@unal...|\n",
      "|anoriega@unal.edu.co|\n",
      "|auarbelaeza@unal....|\n",
      "| bocampo@unal.edu.co|\n",
      "|cgiraldo@unal.edu.co|\n",
      "|cjfunezg@unal.edu.co|\n",
      "|cquinchiar@unal.e...|\n",
      "| dadazam@unal.edu.co|\n",
      "|daestradam@unal.e...|\n",
      "|davgarciava@unal....|\n",
      "|dballesteroso@una...|\n",
      "|  dbrito@unal.edu.co|\n",
      "|dcadavid@unal.edu.co|\n",
      "|dcardonaal@unal.e...|\n",
      "|dchavarriar@unal....|\n",
      "|dgarciabl@unal.ed...|\n",
      "|dgerenal@unal.edu.co|\n",
      "|dgiraldolo@unal.e...|\n",
      "|dguardia@unal.edu.co|\n",
      "|dosoriom@unal.edu.co|\n",
      "| eapenad@unal.edu.co|\n",
      "|elondonoc@unal.ed...|\n",
      "|emflorezb@unal.ed...|\n",
      "|emlopezr@unal.edu.co|\n",
      "|eporrasm@unal.edu.co|\n",
      "|esgarciac@unal.ed...|\n",
      "|favasquezj@unal.e...|\n",
      "|fguerrerot@unal.e...|\n",
      "|fmiranda@unal.edu.co|\n",
      "|framirezf@unal.ed...|\n",
      "|hriveraa@unal.edu.co|\n",
      "|jcardonaso@unal.e...|\n",
      "|jcorreapa@unal.ed...|\n",
      "|jdroldano@unal.ed...|\n",
      "|jfernandezmo@unal...|\n",
      "|jgutierrezlo@unal...|\n",
      "|jhcordoba@unal.ed...|\n",
      "|jjmonsalvem@unal....|\n",
      "|jlopezpe@unal.edu.co|\n",
      "|jmonsalveb@unal.e...|\n",
      "|jmunozbo@unal.edu.co|\n",
      "|jmunozhe@unal.edu.co|\n",
      "| jortize@unal.edu.co|\n",
      "|jovillarrealm@una...|\n",
      "|jppinedal@unal.ed...|\n",
      "| jruedat@unal.edu.co|\n",
      "|jspatinoa@unal.ed...|\n",
      "|jubuitrago@unal.e...|\n",
      "|jucardonaa@unal.e...|\n",
      "|jugutierrezt@unal...|\n",
      "|juochoag@unal.edu.co|\n",
      "|juortizt@unal.edu.co|\n",
      "|juriveras@unal.ed...|\n",
      "|keariasb@unal.edu.co|\n",
      "| kmolano@unal.edu.co|\n",
      "|lbarcelo@unal.edu.co|\n",
      "|  lmayar@unal.edu.co|\n",
      "|   lmazo@unal.edu.co|\n",
      "| lrdiaza@unal.edu.co|\n",
      "|lumarinb@unal.edu.co|\n",
      "| mcallea@unal.edu.co|\n",
      "|mcarvajalsa@unal....|\n",
      "|mhernandezbe@unal...|\n",
      "|mimorenov@unal.ed...|\n",
      "|mizapataa@unal.ed...|\n",
      "|nsalinas@unal.edu.co|\n",
      "|nvalenciat@unal.e...|\n",
      "|parestrepoo@unal....|\n",
      "|rmbuilesm@unal.ed...|\n",
      "|sacastrot@unal.ed...|\n",
      "|saespinosab@unal....|\n",
      "|samolinap@unal.ed...|\n",
      "|sasalazarr@unal.e...|\n",
      "|seagudeloo@unal.e...|\n",
      "|sebermudezg@unal....|\n",
      "|sednarvaezna@unal...|\n",
      "|serendona@unal.ed...|\n",
      "|   tleon@unal.edu.co|\n",
      "| wocampo@unal.edu.co|\n",
      "+--------------------+\n",
      "\n"
     ]
    }
   ],
   "source": [
    "# 2. Consulte el listado total de estudiantes (correos electrónicos) del \n",
    "# curso de Ingeniería de Software, ordenados alfabéticamente\n",
    "# Tu código a continuación...\n",
    "\n",
    "num = asis.sort(['usuario']).select(['usuario']).drop_duplicates().count()\n",
    "#Respuesta\n",
    "asis.sort(['usuario']).select(['usuario']).drop_duplicates().show(num)"
   ]
  },
  {
   "cell_type": "code",
   "execution_count": 9,
   "metadata": {
    "collapsed": true,
    "jupyter": {
     "outputs_hidden": true,
     "source_hidden": true
    }
   },
   "outputs": [
    {
     "name": "stdout",
     "output_type": "stream",
     "text": [
      "+--------------------+-------------+--------------------+--------------------+\n",
      "|             usuario|numAsistencia|   ultima_asistencia|  primera_asistencia|\n",
      "+--------------------+-------------+--------------------+--------------------+\n",
      "|samolinap@unal.ed...|           10|2021/04/13 9:37:2...|2021/04/08 8:11:4...|\n",
      "| jruedat@unal.edu.co|            8|2021/04/13 9:41:2...|2021/04/08 8:12:5...|\n",
      "|nvalenciat@unal.e...|            8|2021/04/13 9:39:3...|2021/04/08 8:10:1...|\n",
      "|serendona@unal.ed...|            8|2021/04/13 9:40:2...|2021/04/08 8:10:4...|\n",
      "|jgutierrezlo@unal...|            8|2021/04/13 9:39:0...|2021/04/08 8:12:0...|\n",
      "|dgerenal@unal.edu.co|            8|2021/04/13 9:41:2...|2021/04/08 8:10:0...|\n",
      "|cjfunezg@unal.edu.co|            8|2021/04/13 9:41:4...|2021/04/08 8:12:1...|\n",
      "|emflorezb@unal.ed...|            8|2021/04/13 9:45:4...|2021/04/08 8:14:0...|\n",
      "|dchavarriar@unal....|            8|2021/04/13 9:43:5...|2021/04/08 8:13:0...|\n",
      "|fguerrerot@unal.e...|            8|2021/04/13 9:40:1...|2021/04/08 8:13:0...|\n",
      "|jdroldano@unal.ed...|            1|2021/04/08 8:20:1...|2021/04/08 8:20:1...|\n",
      "|jovillarrealm@una...|           10|2021/04/13 9:42:5...|2021/04/08 10:02:...|\n",
      "|juriveras@unal.ed...|            8|2021/04/13 9:41:1...|2021/04/08 8:13:3...|\n",
      "|dguardia@unal.edu.co|            8|2021/04/13 9:40:3...|2021/04/08 8:12:5...|\n",
      "| lrdiaza@unal.edu.co|            7|2021/04/13 9:45:2...|2021/04/08 8:14:5...|\n",
      "|fmiranda@unal.edu.co|            8|2021/04/13 9:45:0...|2021/04/08 8:10:1...|\n",
      "|dcadavid@unal.edu.co|            8|2021/04/13 9:40:5...|2021/04/08 8:13:0...|\n",
      "| bocampo@unal.edu.co|            8|2021/04/13 9:42:1...|2021/04/08 8:13:3...|\n",
      "|rmbuilesm@unal.ed...|            9|2021/04/13 9:41:3...|2021/04/08 8:14:1...|\n",
      "|jmunozhe@unal.edu.co|            8|2021/04/13 9:10:1...|2021/04/08 8:09:5...|\n",
      "+--------------------+-------------+--------------------+--------------------+\n",
      "only showing top 20 rows\n",
      "\n"
     ]
    }
   ],
   "source": [
    "# 3. Consulte la cantidad de asistencias registradas por estudiante; además, la fecha y hora de la primera asistencia\n",
    "# y la fecha y hora de la última asistencia\n",
    "# Tu código a continuación...\n",
    "\n",
    "#Creamos una vista para trabajar con SQL\n",
    "asis.createOrReplaceTempView('vistaAsis')\n",
    "\n",
    "from pyspark.sql import functions as F\n",
    "\n",
    "#Respuesta\n",
    "SesionSpark.sql(\"\"\"\n",
    "select\n",
    "usuario,\n",
    "count(usuario) as numAsistencia,\n",
    "max(tiempo) as ultima_asistencia,\n",
    "min(tiempo) as primera_asistencia\n",
    "from\n",
    "vistaAsis\n",
    "group by\n",
    "usuario\n",
    "\n",
    "\"\"\").show()"
   ]
  },
  {
   "cell_type": "code",
   "execution_count": 18,
   "metadata": {
    "collapsed": true,
    "jupyter": {
     "outputs_hidden": true,
     "source_hidden": true
    }
   },
   "outputs": [
    {
     "name": "stdout",
     "output_type": "stream",
     "text": [
      "+--------------------+-----+\n",
      "|             usuario|total|\n",
      "+--------------------+-----+\n",
      "|jdroldano@unal.ed...|    1|\n",
      "+--------------------+-----+\n",
      "\n"
     ]
    }
   ],
   "source": [
    "# 4. Consulte el listado de estudiantes que asistieron a 2 presentaciones o menos (una).\n",
    "# Tu código a continuación...\n",
    "\n",
    "#Respuesta\n",
    "SesionSpark.sql(\"\"\"\n",
    " select usuario, total from (select usuario, count(usuario) as total from vistaAsis group by usuario) where total <= 2\n",
    "\"\"\").show()"
   ]
  },
  {
   "cell_type": "code",
   "execution_count": 12,
   "metadata": {
    "jupyter": {
     "source_hidden": true
    }
   },
   "outputs": [],
   "source": [
    "# 5. Consulte el listado de estudiantes que no asistieron a ninguna presentación.\n",
    "# Tu código a continuación...\n",
    "\n",
    "#Creamos otra vista para trabajar con SQL\n",
    "eva.createOrReplaceTempView('vistaEva')"
   ]
  },
  {
   "cell_type": "code",
   "execution_count": 13,
   "metadata": {
    "collapsed": true,
    "jupyter": {
     "outputs_hidden": true,
     "source_hidden": true
    }
   },
   "outputs": [
    {
     "name": "stdout",
     "output_type": "stream",
     "text": [
      "+-------+-----+\n",
      "|usuario|total|\n",
      "+-------+-----+\n",
      "+-------+-----+\n",
      "\n"
     ]
    }
   ],
   "source": [
    "#Respuesta\n",
    "SesionSpark.sql(\"\"\"\n",
    " select usuario, total from (select usuario, count(usuario) as total from vistaAsis group by usuario) where total == 0\n",
    "\"\"\").show()"
   ]
  },
  {
   "cell_type": "code",
   "execution_count": 14,
   "metadata": {
    "collapsed": true,
    "jupyter": {
     "outputs_hidden": true,
     "source_hidden": true
    }
   },
   "outputs": [
    {
     "name": "stdout",
     "output_type": "stream",
     "text": [
      "+--------------------+--------------------+\n",
      "|             equipos|         integrantes|\n",
      "+--------------------+--------------------+\n",
      "| Gestión de Menús...|[lmazo@unal.edu.c...|\n",
      "| Lo tengo y te lo...|[dgarciabl@unal.e...|\n",
      "| Administración d...|[kmolano@unal.edu...|\n",
      "| Servicios a domi...|[jruedat@unal.edu...|\n",
      "|       Te lo cambio.|[fguerrerot@unal....|\n",
      "| Gestión de Resid...|[mcarvajalsa@unal...|\n",
      "| Gestión de progr...|[acastrillonv@una...|\n",
      "|     Mi Sanandresito|[juochoag@unal.ed...|\n",
      "+--------------------+--------------------+\n",
      "\n"
     ]
    }
   ],
   "source": [
    "# 6. Consulte los integrantes por cada equipo al que pertenecen.\n",
    "# Tu código a continuación...\n",
    "\n",
    "#Respuesta\n",
    "SesionSpark.sql(\"\"\"\n",
    " select SUBSTRING(equipoPertenece, 14) as equipos, collect_set(usuario) as integrantes from vistaAsis group by equipoPertenece\n",
    "\"\"\").show()"
   ]
  },
  {
   "cell_type": "code",
   "execution_count": 15,
   "metadata": {
    "collapsed": true,
    "jupyter": {
     "outputs_hidden": true,
     "source_hidden": true
    }
   },
   "outputs": [
    {
     "name": "stdout",
     "output_type": "stream",
     "text": [
      "+--------------------+------------------+\n",
      "|              Equipo|CantidadAsistentes|\n",
      "+--------------------+------------------+\n",
      "| Gestión de Menús...|                84|\n",
      "| Lo tengo y te lo...|                87|\n",
      "| Administración d...|                95|\n",
      "| Servicios a domi...|                65|\n",
      "|       Te lo cambio.|                89|\n",
      "| Gestión de Resid...|                86|\n",
      "| Gestión de progr...|                73|\n",
      "|     Mi Sanandresito|                83|\n",
      "+--------------------+------------------+\n",
      "\n"
     ]
    }
   ],
   "source": [
    "# 7. Consulte la cantidad de asistentes por presentación, sin considerar los asistentes que pertenecen \n",
    "# al equipo que realizó la presentación.\n",
    "# Tu código a continuación...\n",
    "\n",
    "#Respuesta\n",
    "SesionSpark.sql(\"\"\"\n",
    " select SUBSTRING(equipoPertenece, 14) as Equipo, count(usuario) as CantidadAsistentes from vistaAsis where equipoPertenece <> equipoExponer group by equipoPertenece \n",
    "\"\"\").show()"
   ]
  },
  {
   "cell_type": "code",
   "execution_count": 17,
   "metadata": {
    "collapsed": true,
    "jupyter": {
     "outputs_hidden": true,
     "source_hidden": true
    }
   },
   "outputs": [
    {
     "name": "stdout",
     "output_type": "stream",
     "text": [
      "+-------+---------------+-------------+\n",
      "|usuario|EquipoPertenece|equipoEvaluar|\n",
      "+-------+---------------+-------------+\n",
      "+-------+---------------+-------------+\n",
      "\n"
     ]
    }
   ],
   "source": [
    "# 8. Consutar cuáles integrantes evaluaron a su propio equipo. Estas evaluaciones no serán válidas, pues un\n",
    "# integrante no puede evaluar a su propio equipo.\n",
    "# Tu código a continuación...\n",
    "\n",
    "#Respuesta\n",
    "SesionSpark.sql(\"\"\"\n",
    " select * from (select A.usuario, SUBSTRING(A.equipoPertenece, 14) AS EquipoPertenece, E.equipoEvaluar from vistaAsis A inner join vistaEva E on A.usuario = E.usuario) where EquipoPertenece = equipoEvaluar\n",
    "\"\"\").show()"
   ]
  },
  {
   "cell_type": "code",
   "execution_count": 35,
   "metadata": {
    "collapsed": true,
    "jupyter": {
     "outputs_hidden": true,
     "source_hidden": true
    }
   },
   "outputs": [
    {
     "name": "stdout",
     "output_type": "stream",
     "text": [
      "+--------------------+----------------+----------+------------+------------+------------+------------+------------+-----------+---------------+------------------+-------------+------------+---------------+---------------+---------------+----------+\n",
      "|       equipoEvaluar|promIntroduccion|promEquipo|promProblema|promVentajas|promSolucion|promProducto|promTraccion|promMercado|promCompetencia|PromModeloNegiocio|promInversion|promContacto|promExposicion1|promExposicion2|promExposicion3|Nota_Final|\n",
      "+--------------------+----------------+----------+------------+------------+------------+------------+------------+-----------+---------------+------------------+-------------+------------+---------------+---------------+---------------+----------+\n",
      "| permitiendo hace...|            null|      null|        null|        null|        null|        null|        null|       null|           null|              null|         null|        null|           null|           null|           null|      null|\n",
      "| podría ser perde...|            null|      null|        null|        null|        null|        null|        null|       null|           null|              null|         null|        null|           null|           null|           null|      null|\n",
      "|Lo tengo y te lo ...|            4.48|      4.61|        4.27|        4.42|        4.42|        4.72|        4.35|       4.25|           4.48|              4.46|         4.35|        4.59|           4.52|           4.61|           4.62|      4.48|\n",
      "|Gestión de Reside...|            4.55|      4.42|        4.64|        4.45|        4.46|        4.12|        4.52|       4.67|           4.41|              4.52|         4.33|        4.64|           4.41|           4.52|           4.41|      4.47|\n",
      "|       Te lo cambio.|            4.35|      4.04|        4.21|        4.01|        4.45|        4.82|        4.08|       4.08|           4.21|              4.32|         3.62|        4.49|           4.58|           4.46|           4.54|      4.28|\n",
      "|Administración de...|            4.13|       4.4|        3.97|        3.93|        4.19|        4.44|        4.04|       4.41|           3.96|               4.4|         4.11|        4.16|           4.33|           4.21|           4.13|      4.19|\n",
      "|Deserción de estu...|             4.5|       5.0|         5.0|         5.0|         4.5|         5.0|         5.0|        4.5|            5.0|               4.5|          4.5|         5.0|            4.5|            4.5|            5.0|      4.77|\n",
      "| no se requiere y...|            null|      null|        null|        null|        null|        null|        null|       null|           null|              null|         null|        null|           null|           null|           null|      null|\n",
      "|Gestión de Menús ...|            4.32|      3.97|        4.56|        4.33|        4.37|        4.03|        4.19|       4.23|           4.29|              4.63|          4.3|        4.49|           4.44|           4.45|           4.73|      4.36|\n",
      "| su propuesta de ...|            null|      null|        null|        null|        null|        null|        null|       null|           null|              null|         null|        null|           null|           null|           null|      null|\n",
      "| y/o en el caso d...|            null|      null|        null|        null|        null|        null|        null|       null|           null|              null|         null|        null|           null|           null|           null|      null|\n",
      "| pero es por falt...|            null|      null|        null|        null|        null|        null|        null|       null|           null|              null|         null|        null|           null|           null|           null|      null|\n",
      "| tracción es qué ...|            null|      null|        null|        null|        null|        null|        null|       null|           null|              null|         null|        null|           null|           null|           null|      null|\n",
      "|Gestión de progra...|             4.4|       4.4|        4.53|        3.92|        4.33|        4.45|         4.4|       4.49|           4.26|              4.32|         4.52|        4.42|           4.47|           4.48|           4.62|       4.4|\n",
      "|     Mi Sanandresito|            4.19|       3.9|        4.29|         4.0|        4.32|         4.3|        4.23|       4.38|           3.52|              4.36|         4.37|        4.63|           4.26|           4.16|           4.12|       4.2|\n",
      "+--------------------+----------------+----------+------------+------------+------------+------------+------------+-----------+---------------+------------------+-------------+------------+---------------+---------------+---------------+----------+\n",
      "\n"
     ]
    }
   ],
   "source": [
    "# 9. Consultar la nota promedio por cada ítem (1 al 15), y la nota promedio total del cada equipo. Recuerde que no\n",
    "# son válidas las evaluaciones realizadas por los miembros del mismo equipo.\n",
    "# Tu código a continuación...\n",
    "\n",
    "#Respuesta\n",
    "nota = SesionSpark.sql(\"\"\"\n",
    "\n",
    "--Creamos columna con la nota final\n",
    "SELECT *,\n",
    "ROUND(\n",
    "(\n",
    "(\n",
    "promIntroduccion +\n",
    "promEquipo +\n",
    "promProblema +\n",
    "promVentajas +\n",
    "promSolucion +\n",
    "promProducto + \n",
    "promTraccion +\n",
    "promMercado +\n",
    "promCompetencia +\n",
    "PromModeloNegiocio +\n",
    "promInversion +\n",
    "promContacto +\n",
    "promExposicion1 +\n",
    "promExposicion2 +\n",
    "promExposicion3\n",
    ") / 15.0), 2\n",
    ") \n",
    "AS Nota_Final\n",
    "\n",
    "FROM\n",
    "\n",
    "(\n",
    "-- Promedio de cada columna\n",
    "SELECT \n",
    "equipoEvaluar,\n",
    "ROUND(avg(introduccion),2) as promIntroduccion,\n",
    "ROUND(avg(equipo),2) as promEquipo,\n",
    "ROUND(avg(problema),2) as promProblema,\n",
    "ROUND(avg(ventajas),2) as promVentajas,\n",
    "ROUND(avg(solucion),2) as promSolucion,\n",
    "ROUND(avg(producto),2) as promProducto,\n",
    "ROUND(avg(traccion),2) as promTraccion,\n",
    "ROUND(avg(mercado),2) as promMercado,\n",
    "ROUND(avg(competencia),2) as promCompetencia,\n",
    "ROUND(avg(modeloNegocio),2) as PromModeloNegiocio,\n",
    "ROUND(avg(inversion),2) as promInversion,\n",
    "ROUND(avg(contacto),2) as promContacto,\n",
    "ROUND(avg(exposicion1),2) as promExposicion1,\n",
    "ROUND(avg(exposicion2),2) as promExposicion2,\n",
    "ROUND(avg(exposicion3),2) as promExposicion3 \n",
    "\n",
    "FROM\n",
    "\n",
    "(\n",
    "-- Evaluaciones de cada miembro a un equipo diferente al que pertenece\n",
    "SELECT *\n",
    "FROM\n",
    "\n",
    "(\n",
    "-- Tomar datos del documento evaluación, de acuerdo al equipo que pertenecen\n",
    "SELECT *,\n",
    "\n",
    "(\n",
    "-- equipo al que pertenecen\n",
    "SELECT SUBSTRING(equipoPertenece,15) AS equipoPertenece \n",
    "FROM vistaAsis as A \n",
    "WHERE A.usuario = usuario LIMIT 1\n",
    ")\n",
    "\n",
    "AS equipoPertenece \n",
    "from vistaEva\n",
    ") \n",
    "\n",
    "WHERE equipoPertenece != equipoEvaluar\n",
    ")\n",
    "\n",
    "GROUP BY equipoEvaluar\n",
    ")\n",
    "\n",
    "\n",
    "\"\"\")\n",
    "\n",
    "nota.show()"
   ]
  },
  {
   "cell_type": "code",
   "execution_count": null,
   "metadata": {},
   "outputs": [],
   "source": [
    "# 10. Consulte el mejor equipo evaluado por cada ítem (según nota promedio. En caso de empate mostrar todos los empatados) \n",
    "# y el mejor equipo según el promedio total.\n",
    "# Tu código a continuación...\n",
    "\n",
    "##Se consulta por ítem los equipos que presentan el promedio igual al mayor promedio de cada categoría y total\n",
    "##Se unen las consultas en una sola tabla\n",
    "\n",
    "ContextoSql.sql(\"\"\"\n",
    "\n",
    "SELECT R.Equipo_evaluar, R.Avgintroduccion AS item, X.Nota As Mejor_Promedio\n",
    "\n",
    "FROM resultado R INNER JOIN (SELECT MAX(Avgintroduccion) AS Nota FROM resultado) X on R.Avgintroduccion = X.Nota\n",
    "\n",
    "---------------\n",
    "\n",
    "UNION ALL\n",
    "\n",
    "---------------\n",
    "\n",
    "SELECT R.Equipo_evaluar, R.Avgequipo, X.Nota As Mejor_Promedio\n",
    "\n",
    "FROM resultado R INNER JOIN (SELECT MAX(Avgequipo) AS Nota FROM resultado) X on R.Avgequipo = X.Nota\n",
    "\n",
    "---------------\n",
    "\n",
    "UNION ALL\n",
    "\n",
    "---------------\n",
    "\n",
    "SELECT R.Equipo_evaluar, R.Avgproblema, X.Nota As Mejor_Promedio\n",
    "\n",
    "FROM resultado R INNER JOIN (SELECT MAX(Avgproblema) AS Nota FROM resultado) X on R.Avgproblema = X.Nota\n",
    "\n",
    "---------------\n",
    "\n",
    "UNION ALL\n",
    "\n",
    "---------------\n",
    "\n",
    "SELECT R.Equipo_evaluar, R.Avgventajas, X.Nota As Mejor_Promedio\n",
    "\n",
    "FROM resultado R INNER JOIN (SELECT MAX(Avgventajas) AS Nota FROM resultado) X on R.Avgventajas = X.Nota\n",
    "\n",
    "---------------\n",
    "\n",
    "UNION ALL\n",
    "\n",
    "---------------\n",
    "\n",
    "SELECT R.Equipo_evaluar, R.Avgsolucion, X.Nota As Mejor_Promedio\n",
    "\n",
    "FROM resultado R INNER JOIN (SELECT MAX(Avgsolucion) AS Nota FROM resultado) X on R.Avgsolucion = X.Nota\n",
    "\n",
    "---------------\n",
    "\n",
    "UNION ALL\n",
    "\n",
    "---------------\n",
    "\n",
    "SELECT R.Equipo_evaluar, R.Avgproducton, X.Nota As Mejor_Promedio\n",
    "\n",
    "FROM resultado R INNER JOIN (SELECT MAX(Avgproducton) AS Nota FROM resultado) X on R.Avgproducton = X.Nota\n",
    "\n",
    "---------------\n",
    "\n",
    "UNION ALL\n",
    "\n",
    "---------------\n",
    "\n",
    "SELECT R.Equipo_evaluar, R.Avgtraccion, X.Nota As Mejor_Promedio\n",
    "\n",
    "FROM resultado R INNER JOIN (SELECT MAX(Avgtraccion) AS Nota FROM resultado) X on R.Avgtraccion = X.Nota\n",
    "\n",
    "---------------\n",
    "\n",
    "UNION ALL\n",
    "\n",
    "---------------\n",
    "\n",
    "SELECT R.Equipo_evaluar, R.Avgmercado, X.Nota As Mejor_Promedio\n",
    "\n",
    "FROM resultado R INNER JOIN (SELECT MAX(Avgmercado) AS Nota FROM resultado) X on R.Avgmercado = X.Nota\n",
    "\n",
    "---------------\n",
    "\n",
    "UNION ALL\n",
    "\n",
    "---------------\n",
    "\n",
    "SELECT R.Equipo_evaluar, R.Avgcompetencia , X.Nota As Mejor_Promedio\n",
    "\n",
    "FROM resultado R INNER JOIN (SELECT MAX(Avgcompetencia ) AS Nota FROM resultado) X on R.Avgcompetencia  = X.Nota\n",
    "\n",
    "---------------\n",
    "\n",
    "UNION ALL\n",
    "\n",
    "---------------\n",
    "\n",
    "SELECT R.Equipo_evaluar, R.Avgmodelo_negocio, X.Nota As Mejor_Promedio\n",
    "\n",
    "FROM resultado R INNER JOIN (SELECT MAX(Avgmodelo_negocio) AS Nota FROM resultado) X on R.Avgmodelo_negocio = X.Nota\n",
    "\n",
    "---------------\n",
    "\n",
    "UNION ALL\n",
    "\n",
    "---------------\n",
    "\n",
    "SELECT R.Equipo_evaluar, R.Avginversion, X.Nota As Mejor_Promedio\n",
    "\n",
    "FROM resultado R INNER JOIN (SELECT MAX(Avginversion) AS Nota FROM resultado) X on R.Avginversion = X.Nota\n",
    "\n",
    "---------------\n",
    "\n",
    "UNION ALL\n",
    "\n",
    "---------------\n",
    "\n",
    "SELECT R.Equipo_evaluar, R.Avgcontacto, X.Nota As Mejor_Promedio\n",
    "\n",
    "FROM resultado R INNER JOIN (SELECT MAX(Avgcontacto) AS Nota FROM resultado) X on R.Avgcontacto = X.Nota\n",
    "\n",
    "---------------\n",
    "\n",
    "UNION ALL\n",
    "\n",
    "---------------\n",
    "\n",
    "SELECT R.Equipo_evaluar, R.Avgexp_coordinacion, X.Nota As Mejor_Promedio\n",
    "\n",
    "FROM resultado R INNER JOIN (SELECT MAX(Avgexp_coordinacion) AS Nota FROM resultado) X on R.Avgexp_coordinacion = X.Nota\n",
    "\n",
    "---------------\n",
    "\n",
    "UNION ALL\n",
    "\n",
    "---------------\n",
    "\n",
    "SELECT R.Equipo_evaluar, R.Avgexp_claridad, X.Nota As Mejor_Promedio\n",
    "\n",
    "FROM resultado R INNER JOIN (SELECT MAX(Avgexp_claridad) AS Nota FROM resultado) X on R.Avgexp_claridad = X.Nota\n",
    "\n",
    "---------------\n",
    "\n",
    "UNION ALL\n",
    "\n",
    "---------------\n",
    "\n",
    "SELECT R.Equipo_evaluar, R.Avgexp_diapositivas, X.Nota As Mejor_Promedio\n",
    "\n",
    "FROM resultado R INNER JOIN (SELECT MAX(Avgexp_diapositivas) AS Nota FROM resultado) X on R.Avgexp_diapositivas = X.Nota\n",
    "\n",
    "---------------\n",
    "\n",
    "UNION ALL\n",
    "\n",
    "---------------\n",
    "\n",
    "SELECT R.Equipo_evaluar, R.NotaFinal, X.Nota As Mejor_Promedio\n",
    "\n",
    "FROM resultado R INNER JOIN (SELECT MAX(NotaFinal) AS Nota FROM resultado) X on R.NotaFinal = X.Nota\n",
    "\n",
    "\n",
    " \"\"\").show()"
   ]
  },
  {
   "cell_type": "code",
   "execution_count": null,
   "metadata": {},
   "outputs": [],
   "source": [
    "# 11. Consulte el peor equipo evaluado por cada ítem (según nota promedio. En caso de empate mostrar todos los empatados) \n",
    "# y el peor equipo según el promedio total.\n",
    "# Tu código a continuación...\n",
    "\n"
   ]
  },
  {
   "cell_type": "code",
   "execution_count": null,
   "metadata": {},
   "outputs": [],
   "source": [
    "# 12. Consulte la lista de estudiantes con la correspondiente nota obtenida en la presentación \n",
    "# (nota promedio total de la evaluación obtenida por el equipo)\n",
    "# Tu código a continuación...\n",
    "\n"
   ]
  },
  {
   "cell_type": "code",
   "execution_count": null,
   "metadata": {},
   "outputs": [],
   "source": []
  },
  {
   "cell_type": "code",
   "execution_count": null,
   "metadata": {},
   "outputs": [],
   "source": []
  }
 ],
 "metadata": {
  "kernelspec": {
   "display_name": "Python 3",
   "language": "python",
   "name": "python3"
  },
  "language_info": {
   "codemirror_mode": {
    "name": "ipython",
    "version": 3
   },
   "file_extension": ".py",
   "mimetype": "text/x-python",
   "name": "python",
   "nbconvert_exporter": "python",
   "pygments_lexer": "ipython3",
   "version": "3.6.9"
  }
 },
 "nbformat": 4,
 "nbformat_minor": 4
}
